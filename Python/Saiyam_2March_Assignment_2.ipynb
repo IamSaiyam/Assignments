{
 "cells": [
  {
   "cell_type": "markdown",
   "id": "d174643d",
   "metadata": {},
   "source": [
    "# 2 March Assignment 2\n"
   ]
  },
  {
   "cell_type": "markdown",
   "id": "7ed1c81a",
   "metadata": {},
   "source": [
    "### Q1.\tCreate a python program to find duplicate files by content. User will input path and it will scan all directories, sub-directories to find all duplicates files. Delete the found duplicate file. [Hint: use hashlib]\n"
   ]
  },
  {
   "cell_type": "code",
   "execution_count": 36,
   "id": "92775936",
   "metadata": {},
   "outputs": [
    {
     "name": "stdout",
     "output_type": "stream",
     "text": [
      "Enter path of the first file: C:\\Users\\saijain\\Downloads\n",
      "Duplicates: ['C:\\\\Users\\\\saijain\\\\Downloads\\\\CatalystTraining\\\\test3 - Copy.txt', 'C:\\\\Users\\\\saijain\\\\Downloads\\\\Notes\\\\test3 - Copy.txt']\n",
      "Duplicates Remvoed!\n",
      "Duplicates Remaining: []\n"
     ]
    }
   ],
   "source": [
    "import hashlib\n",
    "import os\n",
    "\n",
    "def scanDuplicates(path):\n",
    "    dirList = os.listdir(path)\n",
    "\n",
    "    hashList = []\n",
    "    duplicate = []\n",
    "    pathDirDict = {path : dirList}\n",
    "\n",
    "\n",
    "    for i in dirList:\n",
    "        if '.' not in i:\n",
    "            pathDirDict[path + '\\\\' +  i] = os.listdir(path + '\\\\' + i)\n",
    "\n",
    "    for i in pathDirDict:\n",
    "        for j in pathDirDict[i]:\n",
    "            if '.txt' in j:\n",
    "\n",
    "                fileObj = open(i + '\\\\' + j)\n",
    "\n",
    "                str1 = fileObj.read().encode()\n",
    "\n",
    "                hash1 = hashlib.sha256(str1)\n",
    "\n",
    "                if hash1.hexdigest() in hashList:\n",
    "                    duplicate.append(i + '\\\\' + j)\n",
    "                else:\n",
    "                    hashList.append(hash1.hexdigest())\n",
    "\n",
    "                fileObj.close()\n",
    "                \n",
    "    return duplicate\n",
    "\n",
    "def removeDuplicate(duplicate):\n",
    "    for i in duplicate:\n",
    "        os.remove(i)\n",
    "    print(\"Duplicates Remvoed!\")\n",
    "    \n",
    "\n",
    "path = input(\"Enter path of the first file: \")\n",
    "\n",
    "duplicates = scanDuplicates(path)\n",
    "\n",
    "print(\"Duplicates:\", duplicates)\n",
    "\n",
    "removeDuplicate(duplicates)\n",
    "\n",
    "print(\"Duplicates Remaining:\", scanDuplicates(path))\n"
   ]
  },
  {
   "cell_type": "markdown",
   "id": "ee0b7472",
   "metadata": {},
   "source": [
    "### Q2.\tGenerate random Password with exact length = 6, with minimum 1 uppercase, 2 lowercase, 2 digits, and remaining special characters. Using these packages [random, strings]\n"
   ]
  },
  {
   "cell_type": "code",
   "execution_count": 38,
   "id": "5cec602e",
   "metadata": {},
   "outputs": [
    {
     "name": "stdout",
     "output_type": "stream",
     "text": [
      "s13Tv#\n"
     ]
    }
   ],
   "source": [
    "import random\n",
    "import string\n",
    "\n",
    "password = []\n",
    "\n",
    "for i in range(0, 2):\n",
    "    password.append(random.choice(string.ascii_lowercase))\n",
    "    password.append(random.choice(string.digits))\n",
    "password.append(random.choice(string.ascii_uppercase))\n",
    "password.append(random.choice(string.punctuation))\n",
    "\n",
    "random.shuffle(password)\n",
    "\n",
    "print(\"\".join(password))"
   ]
  },
  {
   "cell_type": "markdown",
   "id": "678b44fb",
   "metadata": {},
   "source": [
    "### Q3.\tCreate 2D array and update the same 2D array provided that every prime number position should be replaced by cube of the positioned number."
   ]
  },
  {
   "cell_type": "code",
   "execution_count": 39,
   "id": "2710a7ce",
   "metadata": {},
   "outputs": [
    {
     "name": "stdout",
     "output_type": "stream",
     "text": [
      "Enter the number of rows: 7\n",
      "Enter the number of cols: 7\n",
      "[[     0      1      8     27      4    125      6]\n",
      " [   343      8      9     10   1331     12   2197]\n",
      " [    14     15     16   4913     18   6859     20]\n",
      " [    21     22  12167     24     25     26     27]\n",
      " [    28  24389     30  29791     32     33     34]\n",
      " [    35     36  50653     38     39     40  68921]\n",
      " [    42  79507     44     45     46 103823     48]]\n"
     ]
    }
   ],
   "source": [
    "import numpy as np\n",
    "import math\n",
    "\n",
    "def isPrime(num):\n",
    "    a=2\n",
    "    while a<=math.sqrt(num):\n",
    "        if num%a<1:\n",
    "            return False\n",
    "        a=a+1\n",
    "    return num>1\n",
    "\n",
    "rows = int(input(\"Enter the number of rows: \"))\n",
    "cols = int(input(\"Enter the number of cols: \"))\n",
    "\n",
    "arr = np.arange(0, (rows*cols)).reshape(rows, cols)\n",
    "\n",
    "for i in range(rows):\n",
    "    for j in range(cols):\n",
    "        num = arr[i][j]\n",
    "        if isPrime(num):\n",
    "            arr[i][j] = num**3\n",
    "            \n",
    "print(arr)"
   ]
  },
  {
   "cell_type": "markdown",
   "id": "bfe8b576",
   "metadata": {},
   "source": [
    "### Q4.\tPython program to get the sum of every cubed value and its previous integer. "
   ]
  },
  {
   "cell_type": "code",
   "execution_count": 40,
   "id": "7498f6d0",
   "metadata": {},
   "outputs": [
    {
     "name": "stdout",
     "output_type": "stream",
     "text": [
      "[[     0      1      9     35      4    129      6]\n",
      " [  2540      8      9     10   1341     12   2209]\n",
      " [    14     15     16   4929     18   6877     20]\n",
      " [    21     22  12189     24     25     26     27]\n",
      " [    28  24417     30  29821     32     33     34]\n",
      " [    35     36  50689     38     39     40  68961]\n",
      " [    42  79549     44     45     46 103869     48]]\n"
     ]
    }
   ],
   "source": [
    "number = 0\n",
    "arr2 = np.empty_like(arr)\n",
    "for i in range(rows):\n",
    "    for j in range(cols):\n",
    "        if number != 0 and ((arr[i][j]/number)/number) == number:\n",
    "            arr2[i][j] = arr[i][j] + arr[i][j-1]\n",
    "        else:\n",
    "            arr2[i][j] = arr[i][j]\n",
    "        number += 1\n",
    "            \n",
    "print(arr2)"
   ]
  },
  {
   "cell_type": "markdown",
   "id": "67cfd296",
   "metadata": {},
   "source": [
    "### Q5.\tGiven two arrays, find their intersection. Examples:\n",
    "\n",
    "### Input:\n",
    "\n",
    "### arr1[] = [1, 3, 4, 5, 7]\n",
    "### arr2[] = [2, 3, 5, 6]\n"
   ]
  },
  {
   "cell_type": "code",
   "execution_count": 41,
   "id": "440e8321",
   "metadata": {},
   "outputs": [
    {
     "name": "stdout",
     "output_type": "stream",
     "text": [
      "[3 5]\n"
     ]
    }
   ],
   "source": [
    "import numpy as np\n",
    "\n",
    "arr1 = np.array([1, 3, 4, 5, 7])\n",
    "arr2 = np.array([2, 3, 5, 6])\n",
    "\n",
    "arrInter = np.intersect1d(arr1, arr2)\n",
    "\n",
    "print(arrInter)"
   ]
  },
  {
   "cell_type": "markdown",
   "id": "e3349b0a",
   "metadata": {},
   "source": [
    "### Q6.\tCreate a 7 x 7  2D array having only multiples of 7. And return the last element of the same."
   ]
  },
  {
   "cell_type": "code",
   "execution_count": 42,
   "id": "f3ba9c71",
   "metadata": {},
   "outputs": [
    {
     "name": "stdout",
     "output_type": "stream",
     "text": [
      "[[  7  14  21  28  35  42  49]\n",
      " [ 56  63  70  77  84  91  98]\n",
      " [105 112 119 126 133 140 147]\n",
      " [154 161 168 175 182 189 196]\n",
      " [203 210 217 224 231 238 245]\n",
      " [252 259 266 273 280 287 294]\n",
      " [301 308 315 322 329 336 343]]\n",
      "\n",
      "\n",
      "Last Element of the array: 343\n"
     ]
    }
   ],
   "source": [
    "arr = np.arange(7, (7*49)+1, 7).reshape(7, 7)\n",
    "print(arr)\n",
    "print(\"\\n\\nLast Element of the array:\", arr[-1][-1])\n"
   ]
  },
  {
   "cell_type": "markdown",
   "id": "1ebe7ef3",
   "metadata": {},
   "source": [
    "### Q7.\tChecker Board Patten using Numpy:\n",
    "### [   1   0   1   0   1   0   1\n",
    "### 0   1   0   1   0   1   0\n",
    "### 1   0   1   0   1   0   1\n",
    "### 0   1   0   1   0   1   0\n",
    "### 1   0   1   0   1   0   1  ]\n"
   ]
  },
  {
   "cell_type": "code",
   "execution_count": 43,
   "id": "892eaf66",
   "metadata": {},
   "outputs": [
    {
     "name": "stdout",
     "output_type": "stream",
     "text": [
      "Enter number of rows: 7\n",
      "Enter number of cols: 7\n",
      "[[1 0 1 0 1 0 1]\n",
      " [0 1 0 1 0 1 0]\n",
      " [1 0 1 0 1 0 1]\n",
      " [0 1 0 1 0 1 0]\n",
      " [1 0 1 0 1 0 1]\n",
      " [0 1 0 1 0 1 0]\n",
      " [1 0 1 0 1 0 1]]\n"
     ]
    }
   ],
   "source": [
    "import numpy as np\n",
    "rows = int(input(\"Enter number of rows: \"))\n",
    "cols = int(input(\"Enter number of cols: \"))\n",
    "\n",
    "arr = np.zeros((rows, cols), dtype = 'int8')\n",
    "\n",
    "arr[1::2, 1::2] = 1\n",
    "arr[0::2, 0::2] = 1\n",
    "\n",
    "print(arr)"
   ]
  },
  {
   "cell_type": "markdown",
   "id": "ac62d39b",
   "metadata": {},
   "source": [
    "### Q8.\tCreate a given Matrix:\n",
    "### [  A,     B,     C,       D\n",
    "### E,      F,     G,       H\n",
    "### I,      a,      K,       L\n",
    "### M,    N,     o,       P\n",
    "### Q,     R,      S,       T\n",
    "### U,     0,     W,      O ]\n",
    "\n",
    "### Replace all the vowels by np.nan\n",
    "### A, E, I, O U  -- >  np.nan\n",
    "### Return the count of the missing values\n"
   ]
  },
  {
   "cell_type": "code",
   "execution_count": 44,
   "id": "438eba4a",
   "metadata": {},
   "outputs": [
    {
     "name": "stdout",
     "output_type": "stream",
     "text": [
      "5\n"
     ]
    }
   ],
   "source": [
    "import string\n",
    "list1 = list(string.ascii_uppercase)[:-2]\n",
    "array = np.array(list1).reshape(4, 6)\n",
    "list1 = array.tolist()\n",
    "vowels = ['A', 'E', 'I', 'O', 'U']\n",
    "for i in range(0, len(list1)):\n",
    "    list1[i] = [np.nan if item in vowels else item for item in list1[i]]\n",
    "    \n",
    "sum = 0\n",
    "for i in list1:\n",
    "    sum += i.count(np.nan)\n",
    "    \n",
    "print(sum)"
   ]
  }
 ],
 "metadata": {
  "kernelspec": {
   "display_name": "Python 3 (ipykernel)",
   "language": "python",
   "name": "python3"
  },
  "language_info": {
   "codemirror_mode": {
    "name": "ipython",
    "version": 3
   },
   "file_extension": ".py",
   "mimetype": "text/x-python",
   "name": "python",
   "nbconvert_exporter": "python",
   "pygments_lexer": "ipython3",
   "version": "3.9.13"
  }
 },
 "nbformat": 4,
 "nbformat_minor": 5
}
